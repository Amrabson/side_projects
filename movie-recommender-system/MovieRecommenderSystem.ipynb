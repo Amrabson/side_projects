{
 "cells": [
  {
   "cell_type": "markdown",
   "id": "49c2881c-0b6b-43b6-a51f-5159e8a0675f",
   "metadata": {},
   "source": [
    "Aharon Rabson <br>\n",
    "Movie Recommender System"
   ]
  },
  {
   "cell_type": "code",
   "execution_count": 3,
   "id": "22ba5e8e-cd56-405b-9a0f-32d81d41bc1b",
   "metadata": {},
   "outputs": [],
   "source": [
    "# Basic imports\n",
    "import pandas as pd\n",
    "import numpy as np"
   ]
  },
  {
   "cell_type": "code",
   "execution_count": 13,
   "id": "19020845-fd36-43e3-bec9-26b803527027",
   "metadata": {},
   "outputs": [
    {
     "name": "stdout",
     "output_type": "stream",
     "text": [
      "<class 'pandas.core.frame.DataFrame'>\n",
      "RangeIndex: 9742 entries, 0 to 9741\n",
      "Data columns (total 3 columns):\n",
      " #   Column   Non-Null Count  Dtype \n",
      "---  ------   --------------  ----- \n",
      " 0   movieId  9742 non-null   int64 \n",
      " 1   title    9742 non-null   object\n",
      " 2   genres   9742 non-null   object\n",
      "dtypes: int64(1), object(2)\n",
      "memory usage: 228.5+ KB\n",
      "<class 'pandas.core.frame.DataFrame'>\n",
      "RangeIndex: 100836 entries, 0 to 100835\n",
      "Data columns (total 4 columns):\n",
      " #   Column     Non-Null Count   Dtype  \n",
      "---  ------     --------------   -----  \n",
      " 0   userId     100836 non-null  int64  \n",
      " 1   movieId    100836 non-null  int64  \n",
      " 2   rating     100836 non-null  float64\n",
      " 3   timestamp  100836 non-null  int64  \n",
      "dtypes: float64(1), int64(3)\n",
      "memory usage: 3.1 MB\n"
     ]
    },
    {
     "data": {
      "text/plain": [
       "((None,\n",
       "     movieId                               title  \\\n",
       "  0        1                    Toy Story (1995)   \n",
       "  1        2                      Jumanji (1995)   \n",
       "  2        3             Grumpier Old Men (1995)   \n",
       "  3        4            Waiting to Exhale (1995)   \n",
       "  4        5  Father of the Bride Part II (1995)   \n",
       "  \n",
       "                                          genres  \n",
       "  0  Adventure|Animation|Children|Comedy|Fantasy  \n",
       "  1                   Adventure|Children|Fantasy  \n",
       "  2                               Comedy|Romance  \n",
       "  3                         Comedy|Drama|Romance  \n",
       "  4                                       Comedy  ),\n",
       " (None,\n",
       "     userId  movieId  rating  timestamp\n",
       "  0       1        1     4.0  964982703\n",
       "  1       1        3     4.0  964981247\n",
       "  2       1        6     4.0  964982224\n",
       "  3       1       47     5.0  964983815\n",
       "  4       1       50     5.0  964982931))"
      ]
     },
     "execution_count": 13,
     "metadata": {},
     "output_type": "execute_result"
    }
   ],
   "source": [
    "# Read movies and ratings data\n",
    "movies_df = pd.read_csv(\"movies.csv\")\n",
    "ratings_df = pd.read_csv(\"ratings.csv\")\n",
    "\n",
    "# Display basic information about each dataset\n",
    "movies_info = movies_df.info(), movies_df.head()\n",
    "ratings_info = ratings_df.info(), ratings_df.head()\n",
    "\n",
    "movies_info, ratings_info"
   ]
  },
  {
   "cell_type": "code",
   "execution_count": 15,
   "id": "c415958a-336f-45a1-973e-d4e1eb884c7b",
   "metadata": {},
   "outputs": [
    {
     "data": {
      "text/plain": [
       "((610, 9724),\n",
       " movieId  1       2       3       4       5       6       7       8       \\\n",
       " userId                                                                    \n",
       " 1           4.0     NaN     4.0     NaN     NaN     4.0     NaN     NaN   \n",
       " 2           NaN     NaN     NaN     NaN     NaN     NaN     NaN     NaN   \n",
       " 3           NaN     NaN     NaN     NaN     NaN     NaN     NaN     NaN   \n",
       " 4           NaN     NaN     NaN     NaN     NaN     NaN     NaN     NaN   \n",
       " 5           4.0     NaN     NaN     NaN     NaN     NaN     NaN     NaN   \n",
       " \n",
       " movieId  9       10      ...  193565  193567  193571  193573  193579  193581  \\\n",
       " userId                   ...                                                   \n",
       " 1           NaN     NaN  ...     NaN     NaN     NaN     NaN     NaN     NaN   \n",
       " 2           NaN     NaN  ...     NaN     NaN     NaN     NaN     NaN     NaN   \n",
       " 3           NaN     NaN  ...     NaN     NaN     NaN     NaN     NaN     NaN   \n",
       " 4           NaN     NaN  ...     NaN     NaN     NaN     NaN     NaN     NaN   \n",
       " 5           NaN     NaN  ...     NaN     NaN     NaN     NaN     NaN     NaN   \n",
       " \n",
       " movieId  193583  193585  193587  193609  \n",
       " userId                                   \n",
       " 1           NaN     NaN     NaN     NaN  \n",
       " 2           NaN     NaN     NaN     NaN  \n",
       " 3           NaN     NaN     NaN     NaN  \n",
       " 4           NaN     NaN     NaN     NaN  \n",
       " 5           NaN     NaN     NaN     NaN  \n",
       " \n",
       " [5 rows x 9724 columns])"
      ]
     },
     "execution_count": 15,
     "metadata": {},
     "output_type": "execute_result"
    }
   ],
   "source": [
    "# Pivot the ratings data to create a user-item matrix\n",
    "# Rows are users, columns are movies, and values are ratings\n",
    "user_movie_matrix = ratings_df.pivot(index='userId', columns='movieId', values='rating')\n",
    "\n",
    "# Display the shape and a preview of the matrix\n",
    "matrix_info = user_movie_matrix.shape, user_movie_matrix.head()\n",
    "\n",
    "matrix_info"
   ]
  },
  {
   "cell_type": "markdown",
   "id": "cfd7cc5f-9c5c-44c1-8baf-145c4245c6cf",
   "metadata": {},
   "source": [
    "The user-item matrix has 610 users and 9,724 movies, with ratings as the matrix values. <br>\n",
    "Each row represents a user, and each column represents a movie.<br>\n",
    "\n",
    "I'll now implement a collaborative filtering-based recommendation algorithm. To make recommendations,<br>\n",
    "I’ll use the cosine similarity between movies to identify the most similar ones based on user ratings.<br>\n",
    "This similarity measure will help in recommending movies that are often liked by users who also <br>\n",
    "liked the input movie. "
   ]
  },
  {
   "cell_type": "code",
   "execution_count": 24,
   "id": "fac6af6c-9901-4194-8b2a-6afcc2ef1fee",
   "metadata": {},
   "outputs": [],
   "source": [
    "from sklearn.metrics.pairwise import cosine_similarity\n",
    "import numpy as np"
   ]
  },
  {
   "cell_type": "markdown",
   "id": "9f2db934-379b-44d1-ba55-75e8770d459a",
   "metadata": {},
   "source": [
    "I imported cosine_similarity from sklearn.metrics.pairwise, which calculates the <br>\n",
    "cosine similarity between vectors. This metric is commonly used in recommendation <br>\n",
    "systems because it measures the angle between two vectors (representing movies) in <br>\n",
    "a high-dimensional space, indicating how similar they are based on user ratings.<br>"
   ]
  },
  {
   "cell_type": "code",
   "execution_count": 29,
   "id": "e7759a1b-3829-433f-b483-35f9aafcd030",
   "metadata": {},
   "outputs": [
    {
     "data": {
      "text/html": [
       "<div>\n",
       "<style scoped>\n",
       "    .dataframe tbody tr th:only-of-type {\n",
       "        vertical-align: middle;\n",
       "    }\n",
       "\n",
       "    .dataframe tbody tr th {\n",
       "        vertical-align: top;\n",
       "    }\n",
       "\n",
       "    .dataframe thead th {\n",
       "        text-align: right;\n",
       "    }\n",
       "</style>\n",
       "<table border=\"1\" class=\"dataframe\">\n",
       "  <thead>\n",
       "    <tr style=\"text-align: right;\">\n",
       "      <th></th>\n",
       "      <th>title</th>\n",
       "      <th>genres</th>\n",
       "    </tr>\n",
       "  </thead>\n",
       "  <tbody>\n",
       "    <tr>\n",
       "      <th>224</th>\n",
       "      <td>Star Wars: Episode IV - A New Hope (1977)</td>\n",
       "      <td>Action|Adventure|Sci-Fi</td>\n",
       "    </tr>\n",
       "    <tr>\n",
       "      <th>314</th>\n",
       "      <td>Forrest Gump (1994)</td>\n",
       "      <td>Comedy|Drama|Romance|War</td>\n",
       "    </tr>\n",
       "    <tr>\n",
       "      <th>322</th>\n",
       "      <td>Lion King, The (1994)</td>\n",
       "      <td>Adventure|Animation|Children|Drama|Musical|IMAX</td>\n",
       "    </tr>\n",
       "    <tr>\n",
       "      <th>418</th>\n",
       "      <td>Jurassic Park (1993)</td>\n",
       "      <td>Action|Adventure|Sci-Fi|Thriller</td>\n",
       "    </tr>\n",
       "    <tr>\n",
       "      <th>546</th>\n",
       "      <td>Mission: Impossible (1996)</td>\n",
       "      <td>Action|Adventure|Mystery|Thriller</td>\n",
       "    </tr>\n",
       "    <tr>\n",
       "      <th>615</th>\n",
       "      <td>Independence Day (a.k.a. ID4) (1996)</td>\n",
       "      <td>Action|Adventure|Sci-Fi|Thriller</td>\n",
       "    </tr>\n",
       "    <tr>\n",
       "      <th>911</th>\n",
       "      <td>Star Wars: Episode VI - Return of the Jedi (1983)</td>\n",
       "      <td>Action|Adventure|Sci-Fi</td>\n",
       "    </tr>\n",
       "    <tr>\n",
       "      <th>964</th>\n",
       "      <td>Groundhog Day (1993)</td>\n",
       "      <td>Comedy|Fantasy|Romance</td>\n",
       "    </tr>\n",
       "    <tr>\n",
       "      <th>969</th>\n",
       "      <td>Back to the Future (1985)</td>\n",
       "      <td>Adventure|Comedy|Sci-Fi</td>\n",
       "    </tr>\n",
       "    <tr>\n",
       "      <th>2355</th>\n",
       "      <td>Toy Story 2 (1999)</td>\n",
       "      <td>Adventure|Animation|Children|Comedy|Fantasy</td>\n",
       "    </tr>\n",
       "  </tbody>\n",
       "</table>\n",
       "</div>"
      ],
      "text/plain": [
       "                                                  title  \\\n",
       "224           Star Wars: Episode IV - A New Hope (1977)   \n",
       "314                                 Forrest Gump (1994)   \n",
       "322                               Lion King, The (1994)   \n",
       "418                                Jurassic Park (1993)   \n",
       "546                          Mission: Impossible (1996)   \n",
       "615                Independence Day (a.k.a. ID4) (1996)   \n",
       "911   Star Wars: Episode VI - Return of the Jedi (1983)   \n",
       "964                                Groundhog Day (1993)   \n",
       "969                           Back to the Future (1985)   \n",
       "2355                                 Toy Story 2 (1999)   \n",
       "\n",
       "                                               genres  \n",
       "224                           Action|Adventure|Sci-Fi  \n",
       "314                          Comedy|Drama|Romance|War  \n",
       "322   Adventure|Animation|Children|Drama|Musical|IMAX  \n",
       "418                  Action|Adventure|Sci-Fi|Thriller  \n",
       "546                 Action|Adventure|Mystery|Thriller  \n",
       "615                  Action|Adventure|Sci-Fi|Thriller  \n",
       "911                           Action|Adventure|Sci-Fi  \n",
       "964                            Comedy|Fantasy|Romance  \n",
       "969                           Adventure|Comedy|Sci-Fi  \n",
       "2355      Adventure|Animation|Children|Comedy|Fantasy  "
      ]
     },
     "execution_count": 29,
     "metadata": {},
     "output_type": "execute_result"
    }
   ],
   "source": [
    "# 1. Replace NaN values with 0 for similarity calculation\n",
    "user_movie_matrix_filled = user_movie_matrix.fillna(0)\n",
    "\n",
    "# 2. Calculate the cosine similarity matrix between movies (transpose is to get movie-wise similarity)\n",
    "movie_similarity = cosine_similarity(user_movie_matrix_filled.T)\n",
    "\n",
    "# 3. Convert the similarity matrix to a DataFrame for easier lookup\n",
    "movie_similarity_df = pd.DataFrame(movie_similarity, index=user_movie_matrix.columns, \n",
    "                                   columns=user_movie_matrix.columns)\n",
    "\n",
    "# 4. Function to get movie recommendations based on similarity\n",
    "def get_recommendations(movie_title, movies_df, movie_similarity_df, top_n=10):\n",
    "    # Find the movieId for the given movie title\n",
    "    movie_id = movies_df[movies_df['title'] == movie_title]['movieId']\n",
    "    if movie_id.empty:\n",
    "        return \"Movie not found in the dataset.\"\n",
    "    movie_id = movie_id.values[0]\n",
    "    \n",
    "    # Get similarity scores for this movie and sort by similarity\n",
    "    similarity_scores = movie_similarity_df[movie_id].sort_values(ascending=False)\n",
    "    \n",
    "    # Exclude the input movie itself and get the top_n similar movies\n",
    "    similar_movie_ids = similarity_scores.iloc[1:top_n+1].index\n",
    "    recommendations = movies_df[movies_df['movieId'].isin(similar_movie_ids)]\n",
    "    \n",
    "    return recommendations[['title', 'genres']]\n",
    "\n",
    "# Test the recommendation function with an example movie title\n",
    "example_movie_title = \"Toy Story (1995)\"\n",
    "recommendations = get_recommendations(example_movie_title, movies_df, movie_similarity_df)\n",
    "\n",
    "recommendations"
   ]
  },
  {
   "cell_type": "markdown",
   "id": "73ada280-7409-48c6-ae45-da866f9b7cd7",
   "metadata": {},
   "source": [
    "1. The user_movie_matrix is a pivot table where rows are users, columns are movies, and values are <br>\n",
    "ratings. Since users haven't rated all movies, this matrix contains missing values (NaN). I replaced<br>\n",
    "these NaN values with 0, treating unrated movies as 0 ratings for similarity calculations. This is<br>\n",
    "a simple approach to handle missing data in collaborative filtering. <br>\n",
    "2. I calculated the cosine similarity between movies by transposing user_movie_matrix_filled.<br>\n",
    "The transpose ensures we are comparing columns (movies) rather than rows (users). This results<br>\n",
    "in a similarity matrix where each entry represents the similarity score between two movies.<br>\n",
    "3.  The similarity matrix was converted into a DataFrame for easier lookup, with movieId as both<br>\n",
    "row and column indices. This enables quick access to similarity scores between any pair of movies,<br>\n",
    "based on their IDs.<br>\n",
    "4. The get_recommendations function finds movies similar to the input movie:<br>\n",
    "- Retrieve Movie ID: Given a movie title, we locate its corresponding movieId in movies_df.<br>\n",
    "If the title isn't found, the function returns an error - message.<br>\n",
    "- Calculate Similarity Scores: Using the movie_similarity_df, I retrieve and sort similarity<br>\n",
    "scores for the specified movie in descending order, placing the most similar movies at the top.<br>\n",
    "- Exclude Input Movie: To avoid recommending the input movie itself, I skip the topmost score<br>\n",
    "(the movie's similarity to itself).<br>\n",
    "- Return Recommendations: Finally, i retrieve the top n (default 10) similar movies from movies_df<br>\n",
    "and return their titles and genres. <br>"
   ]
  },
  {
   "cell_type": "markdown",
   "id": "78e047cd-f569-49a9-b667-a9637fafaf75",
   "metadata": {},
   "source": [
    "The recommender system successfully generated ten movie recommendations based on the input movie <br>\n",
    "\"Toy Story (1995).\" The recommended movies include popular titles with similar genres or appeal:<br>\n",
    "\n",
    "Star Wars: Episode IV - A New Hope (1977) <br>\n",
    "Forrest Gump (1994)<br>\n",
    "The Lion King (1994)<br>\n",
    "Jurassic Park (1993)<br>\n",
    "Mission: Impossible (1996)<br>\n",
    "Independence Day (1996)<br>\n",
    "Star Wars: Episode VI - Return of the Jedi (1983)<br>\n",
    "Groundhog Day (1993)<br>\n",
    "Back to the Future (1985)<br>\n",
    "Toy Story 2 (1999)<br>"
   ]
  }
 ],
 "metadata": {
  "kernelspec": {
   "display_name": "Python 3 (ipykernel)",
   "language": "python",
   "name": "python3"
  },
  "language_info": {
   "codemirror_mode": {
    "name": "ipython",
    "version": 3
   },
   "file_extension": ".py",
   "mimetype": "text/x-python",
   "name": "python",
   "nbconvert_exporter": "python",
   "pygments_lexer": "ipython3",
   "version": "3.12.4"
  }
 },
 "nbformat": 4,
 "nbformat_minor": 5
}
